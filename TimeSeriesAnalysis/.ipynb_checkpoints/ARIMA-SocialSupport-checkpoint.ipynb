{
 "cells": [
  {
   "cell_type": "code",
   "execution_count": 1,
   "metadata": {},
   "outputs": [],
   "source": [
    "import math\n",
    "import numpy as np # linear algebra\n",
    "import pandas as pd # data processing, CSV file\n",
    "\n",
    "# For visvalization\n",
    "import matplotlib.pyplot as plt\n",
    "\n",
    "from pandas import DataFrame\n",
    "\n",
    "import seaborn as sns\n",
    "from statsmodels.graphics.tsaplots import plot_acf, plot_pacf\n",
    "from statsmodels.tsa.arima.model import ARIMA \n",
    "from statsmodels.tsa.ar_model import AR\n",
    "\n",
    "from matplotlib.font_manager import FontProperties\n",
    "\n",
    "%matplotlib inline"
   ]
  },
  {
   "cell_type": "markdown",
   "metadata": {},
   "source": [
    "# 1. Analyze the Overall Condition of SocialSupport"
   ]
  },
  {
   "cell_type": "code",
   "execution_count": 2,
   "metadata": {
    "scrolled": true
   },
   "outputs": [
    {
     "data": {
      "text/html": [
       "<div>\n",
       "<style scoped>\n",
       "    .dataframe tbody tr th:only-of-type {\n",
       "        vertical-align: middle;\n",
       "    }\n",
       "\n",
       "    .dataframe tbody tr th {\n",
       "        vertical-align: top;\n",
       "    }\n",
       "\n",
       "    .dataframe thead th {\n",
       "        text-align: right;\n",
       "    }\n",
       "</style>\n",
       "<table border=\"1\" class=\"dataframe\">\n",
       "  <thead>\n",
       "    <tr style=\"text-align: right;\">\n",
       "      <th></th>\n",
       "      <th>Healthy life expectancy at birth</th>\n",
       "      <th>Social support</th>\n",
       "      <th>Selected</th>\n",
       "      <th>Country name</th>\n",
       "      <th>Cluster</th>\n",
       "      <th>Silhouette</th>\n",
       "    </tr>\n",
       "  </thead>\n",
       "  <tbody>\n",
       "    <tr>\n",
       "      <th>2</th>\n",
       "      <td>0.449872883</td>\n",
       "      <td>0.287963785</td>\n",
       "      <td>No</td>\n",
       "      <td>Afghanistan</td>\n",
       "      <td>C4</td>\n",
       "      <td>0.6386561204964774</td>\n",
       "    </tr>\n",
       "    <tr>\n",
       "      <th>3</th>\n",
       "      <td>0.79836594</td>\n",
       "      <td>0.586143509</td>\n",
       "      <td>No</td>\n",
       "      <td>Albania</td>\n",
       "      <td>C1</td>\n",
       "      <td>0.6262584294939012</td>\n",
       "    </tr>\n",
       "    <tr>\n",
       "      <th>4</th>\n",
       "      <td>0.740803489</td>\n",
       "      <td>0.733753011</td>\n",
       "      <td>No</td>\n",
       "      <td>Algeria</td>\n",
       "      <td>C1</td>\n",
       "      <td>0.6443202194272261</td>\n",
       "    </tr>\n",
       "    <tr>\n",
       "      <th>5</th>\n",
       "      <td>0.805491728</td>\n",
       "      <td>0.878834939</td>\n",
       "      <td>No</td>\n",
       "      <td>Argentina</td>\n",
       "      <td>C5</td>\n",
       "      <td>0.6174956392230818</td>\n",
       "    </tr>\n",
       "    <tr>\n",
       "      <th>6</th>\n",
       "      <td>0.760043412</td>\n",
       "      <td>0.652325262</td>\n",
       "      <td>No</td>\n",
       "      <td>Armenia</td>\n",
       "      <td>C1</td>\n",
       "      <td>0.6462444134736096</td>\n",
       "    </tr>\n",
       "    <tr>\n",
       "      <th>...</th>\n",
       "      <td>...</td>\n",
       "      <td>...</td>\n",
       "      <td>...</td>\n",
       "      <td>...</td>\n",
       "      <td>...</td>\n",
       "      <td>...</td>\n",
       "    </tr>\n",
       "    <tr>\n",
       "      <th>138</th>\n",
       "      <td>0.757681197</td>\n",
       "      <td>0.860547667</td>\n",
       "      <td>No</td>\n",
       "      <td>Venezuela</td>\n",
       "      <td>C5</td>\n",
       "      <td>0.6790062905610139</td>\n",
       "    </tr>\n",
       "    <tr>\n",
       "      <th>139</th>\n",
       "      <td>0.785000164</td>\n",
       "      <td>0.779291027</td>\n",
       "      <td>No</td>\n",
       "      <td>Vietnam</td>\n",
       "      <td>C1</td>\n",
       "      <td>0.5477221133078899</td>\n",
       "    </tr>\n",
       "    <tr>\n",
       "      <th>140</th>\n",
       "      <td>0.522028788</td>\n",
       "      <td>0.688646256</td>\n",
       "      <td>No</td>\n",
       "      <td>Yemen</td>\n",
       "      <td>C2</td>\n",
       "      <td>0.6623285869738701</td>\n",
       "    </tr>\n",
       "    <tr>\n",
       "      <th>141</th>\n",
       "      <td>0.479310662</td>\n",
       "      <td>0.63570191</td>\n",
       "      <td>No</td>\n",
       "      <td>Zambia</td>\n",
       "      <td>C2</td>\n",
       "      <td>0.6743265148842061</td>\n",
       "    </tr>\n",
       "    <tr>\n",
       "      <th>142</th>\n",
       "      <td>0.468407957</td>\n",
       "      <td>0.697261663</td>\n",
       "      <td>No</td>\n",
       "      <td>Zimbabwe</td>\n",
       "      <td>C2</td>\n",
       "      <td>0.6719571735028471</td>\n",
       "    </tr>\n",
       "  </tbody>\n",
       "</table>\n",
       "<p>141 rows × 6 columns</p>\n",
       "</div>"
      ],
      "text/plain": [
       "    Healthy life expectancy at birth Social support Selected Country name  \\\n",
       "2                        0.449872883    0.287963785       No  Afghanistan   \n",
       "3                         0.79836594    0.586143509       No      Albania   \n",
       "4                        0.740803489    0.733753011       No      Algeria   \n",
       "5                        0.805491728    0.878834939       No    Argentina   \n",
       "6                        0.760043412    0.652325262       No      Armenia   \n",
       "..                               ...            ...      ...          ...   \n",
       "138                      0.757681197    0.860547667       No    Venezuela   \n",
       "139                      0.785000164    0.779291027       No      Vietnam   \n",
       "140                      0.522028788    0.688646256       No        Yemen   \n",
       "141                      0.479310662     0.63570191       No       Zambia   \n",
       "142                      0.468407957    0.697261663       No     Zimbabwe   \n",
       "\n",
       "    Cluster          Silhouette  \n",
       "2        C4  0.6386561204964774  \n",
       "3        C1  0.6262584294939012  \n",
       "4        C1  0.6443202194272261  \n",
       "5        C5  0.6174956392230818  \n",
       "6        C1  0.6462444134736096  \n",
       "..      ...                 ...  \n",
       "138      C5  0.6790062905610139  \n",
       "139      C1  0.5477221133078899  \n",
       "140      C2  0.6623285869738701  \n",
       "141      C2  0.6743265148842061  \n",
       "142      C2  0.6719571735028471  \n",
       "\n",
       "[141 rows x 6 columns]"
      ]
     },
     "execution_count": 2,
     "metadata": {},
     "output_type": "execute_result"
    }
   ],
   "source": [
    "df_h_social = pd.read_csv('../dataset/correlation_clustered_data/H Vs Social.csv')\n",
    "df_h_social = df_h_social.iloc[2:]\n",
    "df_h_social"
   ]
  },
  {
   "cell_type": "code",
   "execution_count": 3,
   "metadata": {},
   "outputs": [],
   "source": [
    "c4_h_social_countries = df_h_social[df_h_social['Cluster'] == 'C4']['Country name']\n",
    "\n",
    "c3_h_social_countries = df_h_social[df_h_social['Cluster'] == 'C3']['Country name']"
   ]
  },
  {
   "cell_type": "code",
   "execution_count": 4,
   "metadata": {},
   "outputs": [
    {
     "name": "stdout",
     "output_type": "stream",
     "text": [
      "['Australia', 'Austria', 'Belgium', 'Canada', 'Costa Rica', 'Czech Republic', 'Denmark', 'Finland', 'France', 'Germany', 'Hong Kong S.A.R. of China', 'Iceland', 'Ireland', 'Israel', 'Italy', 'Japan', 'Luxembourg', 'Malta', 'Netherlands', 'New Zealand', 'North Cyprus', 'Norway', 'Portugal', 'Singapore', 'Slovenia', 'Spain', 'Sweden', 'Switzerland', 'United Kingdom']\n"
     ]
    }
   ],
   "source": [
    "c3_list = c3_h_social_countries.values.tolist()\n",
    "print(c3_list)"
   ]
  },
  {
   "cell_type": "code",
   "execution_count": 5,
   "metadata": {},
   "outputs": [
    {
     "name": "stdout",
     "output_type": "stream",
     "text": [
      "['Afghanistan', 'Bangladesh', 'Benin', 'Congo (Brazzaville)', 'Georgia', 'Guinea', 'Haiti', 'India', 'Malawi', 'Morocco', 'Pakistan', 'Rwanda', 'Togo']\n"
     ]
    }
   ],
   "source": [
    "c4_list = c4_h_social_countries.values.tolist()\n",
    "print(c4_list)"
   ]
  },
  {
   "cell_type": "code",
   "execution_count": 6,
   "metadata": {},
   "outputs": [],
   "source": [
    "df_ts = pd.read_csv('../dataset/normalized_filled_clean_data/normalized-filled-clean-world-happiness-report.csv')"
   ]
  },
  {
   "cell_type": "code",
   "execution_count": 7,
   "metadata": {},
   "outputs": [
    {
     "data": {
      "text/html": [
       "<div>\n",
       "<style scoped>\n",
       "    .dataframe tbody tr th:only-of-type {\n",
       "        vertical-align: middle;\n",
       "    }\n",
       "\n",
       "    .dataframe tbody tr th {\n",
       "        vertical-align: top;\n",
       "    }\n",
       "\n",
       "    .dataframe thead th {\n",
       "        text-align: right;\n",
       "    }\n",
       "</style>\n",
       "<table border=\"1\" class=\"dataframe\">\n",
       "  <thead>\n",
       "    <tr style=\"text-align: right;\">\n",
       "      <th></th>\n",
       "      <th>Country name</th>\n",
       "      <th>year</th>\n",
       "      <th>Life Ladder</th>\n",
       "      <th>Log GDP per capita</th>\n",
       "      <th>Social support</th>\n",
       "      <th>Healthy life expectancy at birth</th>\n",
       "      <th>Freedom to make life choices</th>\n",
       "      <th>Generosity</th>\n",
       "      <th>Perceptions of corruption</th>\n",
       "    </tr>\n",
       "  </thead>\n",
       "  <tbody>\n",
       "    <tr>\n",
       "      <th>0</th>\n",
       "      <td>Afghanistan</td>\n",
       "      <td>2006</td>\n",
       "      <td>0.241065</td>\n",
       "      <td>0.139235</td>\n",
       "      <td>0.229885</td>\n",
       "      <td>0.412946</td>\n",
       "      <td>0.632737</td>\n",
       "      <td>0.486931</td>\n",
       "      <td>0.893460</td>\n",
       "    </tr>\n",
       "    <tr>\n",
       "      <th>1</th>\n",
       "      <td>Afghanistan</td>\n",
       "      <td>2007</td>\n",
       "      <td>0.241065</td>\n",
       "      <td>0.139235</td>\n",
       "      <td>0.229885</td>\n",
       "      <td>0.412946</td>\n",
       "      <td>0.632737</td>\n",
       "      <td>0.486931</td>\n",
       "      <td>0.893460</td>\n",
       "    </tr>\n",
       "    <tr>\n",
       "      <th>2</th>\n",
       "      <td>Afghanistan</td>\n",
       "      <td>2008</td>\n",
       "      <td>0.241065</td>\n",
       "      <td>0.139235</td>\n",
       "      <td>0.229885</td>\n",
       "      <td>0.412946</td>\n",
       "      <td>0.632737</td>\n",
       "      <td>0.486931</td>\n",
       "      <td>0.893460</td>\n",
       "    </tr>\n",
       "    <tr>\n",
       "      <th>3</th>\n",
       "      <td>Afghanistan</td>\n",
       "      <td>2009</td>\n",
       "      <td>0.362223</td>\n",
       "      <td>0.173441</td>\n",
       "      <td>0.375000</td>\n",
       "      <td>0.421875</td>\n",
       "      <td>0.579092</td>\n",
       "      <td>0.508228</td>\n",
       "      <td>0.859705</td>\n",
       "    </tr>\n",
       "    <tr>\n",
       "      <th>4</th>\n",
       "      <td>Afghanistan</td>\n",
       "      <td>2010</td>\n",
       "      <td>0.425840</td>\n",
       "      <td>0.194970</td>\n",
       "      <td>0.356322</td>\n",
       "      <td>0.430804</td>\n",
       "      <td>0.470426</td>\n",
       "      <td>0.441433</td>\n",
       "      <td>0.708861</td>\n",
       "    </tr>\n",
       "    <tr>\n",
       "      <th>...</th>\n",
       "      <td>...</td>\n",
       "      <td>...</td>\n",
       "      <td>...</td>\n",
       "      <td>...</td>\n",
       "      <td>...</td>\n",
       "      <td>...</td>\n",
       "      <td>...</td>\n",
       "      <td>...</td>\n",
       "      <td>...</td>\n",
       "    </tr>\n",
       "    <tr>\n",
       "      <th>2251</th>\n",
       "      <td>Zimbabwe</td>\n",
       "      <td>2017</td>\n",
       "      <td>0.225697</td>\n",
       "      <td>0.269215</td>\n",
       "      <td>0.665230</td>\n",
       "      <td>0.506696</td>\n",
       "      <td>0.680880</td>\n",
       "      <td>0.229429</td>\n",
       "      <td>0.755274</td>\n",
       "    </tr>\n",
       "    <tr>\n",
       "      <th>2252</th>\n",
       "      <td>Zimbabwe</td>\n",
       "      <td>2018</td>\n",
       "      <td>0.221766</td>\n",
       "      <td>0.275855</td>\n",
       "      <td>0.695402</td>\n",
       "      <td>0.520089</td>\n",
       "      <td>0.694635</td>\n",
       "      <td>0.258470</td>\n",
       "      <td>0.853376</td>\n",
       "    </tr>\n",
       "    <tr>\n",
       "      <th>2253</th>\n",
       "      <td>Zimbabwe</td>\n",
       "      <td>2019</td>\n",
       "      <td>0.057005</td>\n",
       "      <td>0.255936</td>\n",
       "      <td>0.672414</td>\n",
       "      <td>0.533482</td>\n",
       "      <td>0.514443</td>\n",
       "      <td>0.262343</td>\n",
       "      <td>0.839662</td>\n",
       "    </tr>\n",
       "    <tr>\n",
       "      <th>2254</th>\n",
       "      <td>Zimbabwe</td>\n",
       "      <td>2020</td>\n",
       "      <td>0.140279</td>\n",
       "      <td>0.231590</td>\n",
       "      <td>0.612069</td>\n",
       "      <td>0.546875</td>\n",
       "      <td>0.529574</td>\n",
       "      <td>0.315586</td>\n",
       "      <td>0.795359</td>\n",
       "    </tr>\n",
       "    <tr>\n",
       "      <th>2255</th>\n",
       "      <td>Zimbabwe</td>\n",
       "      <td>2021</td>\n",
       "      <td>0.137598</td>\n",
       "      <td>0.254527</td>\n",
       "      <td>0.659483</td>\n",
       "      <td>0.533504</td>\n",
       "      <td>0.576341</td>\n",
       "      <td>0.278800</td>\n",
       "      <td>0.829114</td>\n",
       "    </tr>\n",
       "  </tbody>\n",
       "</table>\n",
       "<p>2256 rows × 9 columns</p>\n",
       "</div>"
      ],
      "text/plain": [
       "     Country name  year  Life Ladder  Log GDP per capita  Social support  \\\n",
       "0     Afghanistan  2006     0.241065            0.139235        0.229885   \n",
       "1     Afghanistan  2007     0.241065            0.139235        0.229885   \n",
       "2     Afghanistan  2008     0.241065            0.139235        0.229885   \n",
       "3     Afghanistan  2009     0.362223            0.173441        0.375000   \n",
       "4     Afghanistan  2010     0.425840            0.194970        0.356322   \n",
       "...           ...   ...          ...                 ...             ...   \n",
       "2251     Zimbabwe  2017     0.225697            0.269215        0.665230   \n",
       "2252     Zimbabwe  2018     0.221766            0.275855        0.695402   \n",
       "2253     Zimbabwe  2019     0.057005            0.255936        0.672414   \n",
       "2254     Zimbabwe  2020     0.140279            0.231590        0.612069   \n",
       "2255     Zimbabwe  2021     0.137598            0.254527        0.659483   \n",
       "\n",
       "      Healthy life expectancy at birth  Freedom to make life choices  \\\n",
       "0                             0.412946                      0.632737   \n",
       "1                             0.412946                      0.632737   \n",
       "2                             0.412946                      0.632737   \n",
       "3                             0.421875                      0.579092   \n",
       "4                             0.430804                      0.470426   \n",
       "...                                ...                           ...   \n",
       "2251                          0.506696                      0.680880   \n",
       "2252                          0.520089                      0.694635   \n",
       "2253                          0.533482                      0.514443   \n",
       "2254                          0.546875                      0.529574   \n",
       "2255                          0.533504                      0.576341   \n",
       "\n",
       "      Generosity  Perceptions of corruption  \n",
       "0       0.486931                   0.893460  \n",
       "1       0.486931                   0.893460  \n",
       "2       0.486931                   0.893460  \n",
       "3       0.508228                   0.859705  \n",
       "4       0.441433                   0.708861  \n",
       "...          ...                        ...  \n",
       "2251    0.229429                   0.755274  \n",
       "2252    0.258470                   0.853376  \n",
       "2253    0.262343                   0.839662  \n",
       "2254    0.315586                   0.795359  \n",
       "2255    0.278800                   0.829114  \n",
       "\n",
       "[2256 rows x 9 columns]"
      ]
     },
     "execution_count": 7,
     "metadata": {},
     "output_type": "execute_result"
    }
   ],
   "source": [
    "df_ts"
   ]
  },
  {
   "cell_type": "code",
   "execution_count": 8,
   "metadata": {},
   "outputs": [],
   "source": [
    "df_c3 = df_ts[df_ts['Country name'].isin(c3_list)]\n",
    "df_c4 = df_ts[df_ts['Country name'].isin(c4_list)]"
   ]
  },
  {
   "cell_type": "code",
   "execution_count": 9,
   "metadata": {},
   "outputs": [],
   "source": [
    "#2006 - 2021\n",
    "init = 2006\n",
    "years = []\n",
    "for i in range(16):\n",
    "    years.append(init)\n",
    "    init += 1"
   ]
  },
  {
   "cell_type": "code",
   "execution_count": 10,
   "metadata": {},
   "outputs": [],
   "source": [
    "def get_yrly_avg_dict(df, years, col_item):\n",
    "    avg_trend = {}\n",
    "    for year in years:\n",
    "        mean = df[df['year'] == year][col_item].mean()\n",
    "        avg_trend[year] = mean\n",
    "#     print(avg_trend)\n",
    "    return avg_trend"
   ]
  },
  {
   "cell_type": "code",
   "execution_count": 11,
   "metadata": {},
   "outputs": [],
   "source": [
    "def plot_by_dict(dis_dict, title, xlabel, ylabel):\n",
    "    fig = plt.figure()\n",
    "    fig.suptitle(title, fontsize=20)\n",
    "    plt.xlabel(xlabel, fontsize=18)\n",
    "    plt.ylabel(ylabel, fontsize=16)\n",
    "    plt.scatter(range(len(dis_dict)), list(dis_dict.values()))\n",
    "    plt.plot(range(len(dis_dict)), list(dis_dict.values()))\n",
    "    plt.xticks(range(len(dis_dict)), list(dis_dict.keys()))\n",
    "    plt.show()\n",
    "\n",
    "def plot_acf_by_dict(dis_dict, lags):\n",
    "    avg = []\n",
    "    for a in dis_dict.values():\n",
    "        avg.append(a)\n",
    "    avg = pd.Series(avg)\n",
    "    plot_acf(avg, lags=lags)\n",
    "    \n",
    "def plot_pacf_by_dict(dis_dict, lags):\n",
    "    avg = []\n",
    "    for a in dis_dict.values():\n",
    "        avg.append(a)\n",
    "    avg = pd.Series(avg)\n",
    "    plot_pacf(avg, lags=lags)"
   ]
  },
  {
   "cell_type": "code",
   "execution_count": null,
   "metadata": {},
   "outputs": [],
   "source": []
  },
  {
   "cell_type": "markdown",
   "metadata": {},
   "source": [
    "# ACF, PACF Analysis"
   ]
  },
  {
   "cell_type": "code",
   "execution_count": 12,
   "metadata": {},
   "outputs": [
    {
     "name": "stdout",
     "output_type": "stream",
     "text": [
      "{2006: 0.921076099881094, 2007: 0.9180539040824415, 2008: 0.9063779891663364, 2009: 0.907162438895495, 2010: 0.9159235037653588, 2011: 0.9137683313515655, 2012: 0.9039338089575901, 2013: 0.9025713436385253, 2014: 0.8906311930241778, 2015: 0.8965021799445104, 2016: 0.9070055489496632, 2017: 0.9031658739595718, 2018: 0.9045283392786367, 2019: 0.9064853349187475, 2020: 0.9105727308759413, 2021: 0.907352358303607}\n"
     ]
    },
    {
     "data": {
      "image/png": "[encoded data removed]",
      "text/plain": [
       "<Figure size 432x288 with 1 Axes>"
      ]
     },
     "metadata": {
      "needs_background": "light"
     },
     "output_type": "display_data"
    }
   ],
   "source": [
    "c3_social_avg_trend = get_yrly_avg_dict(df_c3, years, col_item = 'Social support')\n",
    "print(c3_social_avg_trend)\n",
    "plot_by_dict(c3_social_avg_trend, \"Mean of Social Support in C3\", \"year\", \"Social Support\")"
   ]
  },
  {
   "cell_type": "code",
   "execution_count": 18,
   "metadata": {},
   "outputs": [
    {
     "data": {
      "text/plain": [
       "array([<AxesSubplot:>], dtype=object)"
      ]
     },
     "execution_count": 18,
     "metadata": {},
     "output_type": "execute_result"
    },
    {
     "data": {
      "image/png": "[encoded data removed]",
      "text/plain": [
       "<Figure size 1080x288 with 1 Axes>"
      ]
     },
     "metadata": {
      "needs_background": "light"
     },
     "output_type": "display_data"
    }
   ],
   "source": [
    "ser = pd.Series(c3_social_avg_trend.values())\n",
    "ser.diff().plot(subplots=True, figsize=(15,4))"
   ]
  },
  {
   "cell_type": "code",
   "execution_count": null,
   "metadata": {
    "scrolled": true
   },
   "outputs": [],
   "source": [
    "plot_acf_by_dict(c3_social_avg_trend, lags=10)"
   ]
  },
  {
   "cell_type": "code",
   "execution_count": null,
   "metadata": {},
   "outputs": [],
   "source": [
    "plot_pacf_by_dict(c3_social_avg_trend, lags=6)"
   ]
  },
  {
   "cell_type": "markdown",
   "metadata": {},
   "source": [
    "# ARIMA Model Analysis"
   ]
  },
  {
   "cell_type": "code",
   "execution_count": null,
   "metadata": {
    "scrolled": true
   },
   "outputs": [],
   "source": [
    "c3_avg = []\n",
    "for a in c3_social_avg_trend.values():\n",
    "    c3_avg.append(a)\n",
    "    \n",
    "c3_model = ARIMA(c3_avg, order=(1,1,1))\n",
    "c3_model_fit = c3_model.fit()\n",
    "\n",
    "residuals = DataFrame(c3_model_fit.resid)\n",
    "residuals.plot()\n",
    "plt.show()"
   ]
  },
  {
   "cell_type": "markdown",
   "metadata": {},
   "source": [
    "# ARIMA Model Prediction"
   ]
  },
  {
   "cell_type": "code",
   "execution_count": null,
   "metadata": {},
   "outputs": [],
   "source": [
    "X = np.asarray(c3_avg)\n",
    "X"
   ]
  },
  {
   "cell_type": "code",
   "execution_count": null,
   "metadata": {},
   "outputs": [],
   "source": [
    "from sklearn.metrics import mean_squared_error\n",
    "from math import sqrt\n",
    "# split into train and test sets\n",
    "size = int(len(X) * 0.66)\n",
    "train, test = X[0:size], X[size:len(X)]\n",
    "history = [x for x in train]\n",
    "predictions = list()\n",
    "# walk-forward validation\n",
    "for t in range(len(test)):\n",
    "\tmodel = ARIMA(history, order=(1,1,1))\n",
    "\tmodel_fit = model.fit()\n",
    "\toutput = model_fit.forecast()\n",
    "\tyhat = output[0]\n",
    "\tpredictions.append(yhat)\n",
    "\tobs = test[t]\n",
    "\thistory.append(obs)\n",
    "\tprint('predicted=%f, expected=%f' % (yhat, obs))\n",
    "# evaluate forecasts\n",
    "rmse = sqrt(mean_squared_error(test, predictions))\n",
    "print('Test RMSE: %.3f' % rmse)\n",
    "# plot forecasts against actual outcomes\n",
    "fig = plt.figure()\n",
    "fig.suptitle('Mean of Social Support Prediction 2016-2021 - C3', fontsize=20)\n",
    "plt.xlabel('year', fontsize=18)\n",
    "plt.ylabel('Social Support', fontsize=16)\n",
    "plt.plot(test, color='green')\n",
    "plt.plot(predictions, color='red')\n",
    "plt.show()"
   ]
  },
  {
   "cell_type": "markdown",
   "metadata": {},
   "source": [
    "# Seasonal Analysis"
   ]
  },
  {
   "cell_type": "code",
   "execution_count": null,
   "metadata": {},
   "outputs": [],
   "source": [
    "from statsmodels.tsa.seasonal import seasonal_decompose\n",
    "\n",
    "da = pd.DataFrame(\n",
    "    { 'value': c3_avg }, \n",
    "    index=pd.period_range(\n",
    "        '2006-01-01',\n",
    "         freq='A',\n",
    "         periods=16\n",
    "    ))\n",
    "\n",
    "# da = da.interpolate(inplace = True)\n",
    "da.index = da.index.to_timestamp()\n",
    "\n",
    "result = seasonal_decompose(da, model='additive',period=1)\n",
    "result.plot()\n",
    "# result.trend.plot()"
   ]
  },
  {
   "cell_type": "code",
   "execution_count": null,
   "metadata": {
    "scrolled": true
   },
   "outputs": [],
   "source": [
    "result = seasonal_decompose(da, model='multiplicative',period=1)\n",
    "result.plot()"
   ]
  },
  {
   "cell_type": "markdown",
   "metadata": {},
   "source": [
    "# 2. Condition of SocialSupport by Countries"
   ]
  },
  {
   "cell_type": "code",
   "execution_count": null,
   "metadata": {},
   "outputs": [],
   "source": [
    "fig = plt.figure()\n",
    "fig.suptitle(\"Social Support - C3\", fontsize=20)\n",
    "plt.xlabel(\"year\", fontsize=18)\n",
    "plt.ylabel(\"Social Support\", fontsize=16)\n",
    "\n",
    "for country in c3_list:\n",
    "    data = df_c3[df_c3['Country name'] == country]['Social support']\n",
    "    data.index = np.arange(2006, 2021+1)\n",
    "    dis_dict = data.to_dict()\n",
    "    \n",
    "    plt.scatter(range(len(dis_dict)), list(dis_dict.values()))\n",
    "    plt.plot(range(len(dis_dict)), list(dis_dict.values()))\n",
    "    plt.xticks(range(len(dis_dict)), list(dis_dict.keys()))\n",
    "\n",
    "fontP = FontProperties()\n",
    "fontP.set_size('xx-small')\n",
    "plt.legend(c3_list, title='Countries', bbox_to_anchor=(1.05, 1), loc='upper left', prop=fontP)\n",
    "plt.show()"
   ]
  },
  {
   "cell_type": "code",
   "execution_count": null,
   "metadata": {},
   "outputs": [],
   "source": [
    "fig = plt.figure()\n",
    "fig.suptitle(\"GDP - C3 in GDP vs Social Support\", fontsize=20)\n",
    "plt.xlabel(\"year\", fontsize=18)\n",
    "plt.ylabel(\"GDP\", fontsize=16)\n",
    "\n",
    "for country in c3_list:\n",
    "    data = df_c3[df_c3['Country name'] == country]['Log GDP per capita']\n",
    "    data.index = np.arange(2006, 2021+1)\n",
    "    dis_dict = data.to_dict()\n",
    "    \n",
    "    plt.scatter(range(len(dis_dict)), list(dis_dict.values()))\n",
    "    plt.plot(range(len(dis_dict)), list(dis_dict.values()))\n",
    "    plt.xticks(range(len(dis_dict)), list(dis_dict.keys()))\n",
    "\n",
    "fontP = FontProperties()\n",
    "fontP.set_size('xx-small')\n",
    "plt.legend(c3_list, title='Countries', bbox_to_anchor=(1.05, 1), loc='upper left', prop=fontP)\n",
    "plt.show()"
   ]
  },
  {
   "cell_type": "markdown",
   "metadata": {},
   "source": [
    "# 3. Forecastability of a SocialSupport for C3 Countries"
   ]
  },
  {
   "cell_type": "markdown",
   "metadata": {},
   "source": [
    "The more regular and repeatable patterns a time series has, the easier it is to forecast. The ‘Approximate Entropy’ can be used to quantify the regularity and unpredictability of fluctuations in a time series.\n",
    "\n",
    "The higher the approximate entropy, the more difficult it is to forecast it.\n",
    "\n",
    "Another better alternate is the ‘Sample Entropy’.\n",
    "\n",
    "Sample Entropy is similar to approximate entropy but is more consistent in estimating the complexity even for smaller time series. For example, a random time series with fewer data points can have a lower ‘approximate entropy’ than a more ‘regular’ time series, whereas, a longer random time series will have a higher ‘approximate entropy’."
   ]
  },
  {
   "cell_type": "code",
   "execution_count": null,
   "metadata": {},
   "outputs": [],
   "source": [
    "def ApEn(U, m, r):\n",
    "    \"\"\"Compute Aproximate entropy\"\"\"\n",
    "    def _maxdist(x_i, x_j):\n",
    "        return max([abs(ua - va) for ua, va in zip(x_i, x_j)])\n",
    "\n",
    "    def _phi(m):\n",
    "        x = [[U[j] for j in range(i, i + m - 1 + 1)] for i in range(N - m + 1)]\n",
    "        C = [len([1 for x_j in x if _maxdist(x_i, x_j) <= r]) / (N - m + 1.0) for x_i in x]\n",
    "#         print(N, \" \", m)\n",
    "        if (N - m + 1) == 0:\n",
    "             return np.nan\n",
    "        return (N - m + 1)**(-1) * sum(np.log(C))\n",
    "\n",
    "    N = len(U)\n",
    "    return abs(_phi(m+1) - _phi(m))\n",
    "\n",
    "# https://en.wikipedia.org/wiki/Sample_entropy\n",
    "def SampEn(U, m, r):\n",
    "    \"\"\"Compute Sample entropy\"\"\"\n",
    "    def _maxdist(x_i, x_j):\n",
    "        return max([abs(ua - va) for ua, va in zip(x_i, x_j)])\n",
    "\n",
    "    def _phi(m):\n",
    "        x = [[U[j] for j in range(i, i + m - 1 + 1)] for i in range(N - m + 1)]\n",
    "        C = [len([1 for j in range(len(x)) if i != j and _maxdist(x[i], x[j]) <= r]) for i in range(len(x))]\n",
    "        return sum(C)\n",
    "\n",
    "    N = len(U)\n",
    "    if(_phi(m) == 0):\n",
    "        return np.nan\n",
    "\n",
    "    return -np.log(_phi(m+1) / _phi(m))\n",
    "\n",
    "def sort_dict(dis_dict):\n",
    "    return {k: v for k, v in sorted(dis_dict.items(), key=lambda item: item[1])}"
   ]
  },
  {
   "cell_type": "code",
   "execution_count": null,
   "metadata": {},
   "outputs": [],
   "source": [
    "AE_dict = {}\n",
    "\n",
    "for country in c3_list:\n",
    "    data = df_c3[df_c3['Country name'] == country]['Social support']\n",
    "    data.index = np.arange(0, 16)\n",
    "    AE = SampEn(data, m=2, r=0.2*np.std(data))\n",
    "    AE_dict[country] = AE\n",
    "\n",
    "\n",
    "# The Lower the approximate entropy, \n",
    "# the Easier it is to forecast it. \n",
    "Sorted_AE_dict = sort_dict(AE_dict)\n",
    "\n",
    "top5_countries_AE  = list(Sorted_AE_dict)[:5]\n",
    "top5_countries_name = list(Sorted_AE_dict.keys())[:5]\n",
    "\n",
    "bottom5_countries_AE = list(Sorted_AE_dict)[-5:]\n",
    "bottom5_countries_name = list(Sorted_AE_dict.keys())[-5:]\n",
    "\n",
    "print(top5_countries_AE)\n",
    "print(bottom5_countries_AE)"
   ]
  },
  {
   "cell_type": "code",
   "execution_count": null,
   "metadata": {
    "scrolled": true
   },
   "outputs": [],
   "source": [
    "fig = plt.figure()\n",
    "fig.suptitle(\"Social Support of Countries with Higher Forecastability\", fontsize=20)\n",
    "plt.xlabel(\"year\", fontsize=18)\n",
    "plt.ylabel(\"Social Support\", fontsize=16)\n",
    "\n",
    "for country in top5_countries_name:\n",
    "    data = df_c3[df_c3['Country name'] == country]['Social support']\n",
    "    data.index = np.arange(2006, 2021+1)\n",
    "    dis_dict = data.to_dict()\n",
    "    \n",
    "    plt.scatter(range(len(dis_dict)), list(dis_dict.values()))\n",
    "    plt.plot(range(len(dis_dict)), list(dis_dict.values()))\n",
    "    plt.xticks(range(len(dis_dict)), list(dis_dict.keys()))\n",
    "\n",
    "fontP = FontProperties()\n",
    "fontP.set_size('xx-small')\n",
    "plt.legend(top5_countries_name, title='Countries', bbox_to_anchor=(1.05, 1), loc='upper left', prop=fontP)\n",
    "plt.show()"
   ]
  },
  {
   "cell_type": "code",
   "execution_count": null,
   "metadata": {},
   "outputs": [],
   "source": [
    "fig = plt.figure()\n",
    "fig.suptitle(\"Social Support of Countries with Lower Forecastability\", fontsize=20)\n",
    "plt.xlabel(\"year\", fontsize=18)\n",
    "plt.ylabel(\"Social Support\", fontsize=16)\n",
    "\n",
    "for country in bottom5_countries_name:\n",
    "    data = df_c3[df_c3['Country name'] == country]['Social support']\n",
    "    data.index = np.arange(2006, 2021+1)\n",
    "    dis_dict = data.to_dict()\n",
    "    \n",
    "    plt.scatter(range(len(dis_dict)), list(dis_dict.values()))\n",
    "    plt.plot(range(len(dis_dict)), list(dis_dict.values()))\n",
    "    plt.xticks(range(len(dis_dict)), list(dis_dict.keys()))\n",
    "\n",
    "fontP = FontProperties()\n",
    "fontP.set_size('xx-small')\n",
    "plt.legend(bottom5_countries_name, title='Countries', bbox_to_anchor=(1.05, 1), loc='upper left', prop=fontP)\n",
    "plt.show()"
   ]
  },
  {
   "cell_type": "code",
   "execution_count": null,
   "metadata": {},
   "outputs": [],
   "source": [
    "# c4_social_avg_trend = get_yrly_avg_dict(df_c4, years, col_item = 'Social support')\n",
    "# plot_by_dict(c4_social_avg_trend, \"Mean of Social Support in C4\", \"year\", \"Social Support\")"
   ]
  },
  {
   "cell_type": "code",
   "execution_count": null,
   "metadata": {},
   "outputs": [],
   "source": [
    "# plot_acf_by_dict(c4_social_avg_trend, lags=10)"
   ]
  },
  {
   "cell_type": "code",
   "execution_count": null,
   "metadata": {},
   "outputs": [],
   "source": [
    "# plot_pacf_by_dict(c4_social_avg_trend, lags=6)"
   ]
  },
  {
   "cell_type": "code",
   "execution_count": null,
   "metadata": {},
   "outputs": [],
   "source": [
    "# c4_avg = []\n",
    "# for a in c4_social_avg_trend.values():\n",
    "#     c4_avg.append(a)\n",
    "    \n",
    "# c4_model = ARIMA(c4_avg, order=(1,0,1))\n",
    "# c4_model_fit = c4_model.fit()\n",
    "\n",
    "# residuals = DataFrame(c4_model_fit.resid)\n",
    "# residuals.plot()\n",
    "# plt.show()"
   ]
  },
  {
   "cell_type": "code",
   "execution_count": null,
   "metadata": {},
   "outputs": [],
   "source": [
    "# X = np.asarray(c4_avg)\n",
    "# X"
   ]
  },
  {
   "cell_type": "code",
   "execution_count": null,
   "metadata": {},
   "outputs": [],
   "source": [
    "# from sklearn.metrics import mean_squared_error\n",
    "# from math import sqrt\n",
    "# # split into train and test sets\n",
    "# size = int(len(X) * 0.66)\n",
    "# train, test = X[0:size], X[size:len(X)]\n",
    "# history = [x for x in train]\n",
    "# predictions = list()\n",
    "# # walk-forward validation\n",
    "# for t in range(len(test)):\n",
    "# \tmodel = ARIMA(history, order=(1,1,1))\n",
    "# \tmodel_fit = model.fit()\n",
    "# \toutput = model_fit.forecast()\n",
    "# \tyhat = output[0]\n",
    "# \tpredictions.append(yhat)\n",
    "# \tobs = test[t]\n",
    "# \thistory.append(obs)\n",
    "# \tprint('predicted=%f, expected=%f' % (yhat, obs))\n",
    "# # evaluate forecasts\n",
    "# rmse = sqrt(mean_squared_error(test, predictions))\n",
    "# print('Test RMSE: %.3f' % rmse)\n",
    "# # plot forecasts against actual outcomes\n",
    "# fig = plt.figure()\n",
    "# fig.suptitle('Mean of Social Support Prediction 2016-2021 - C4', fontsize=20)\n",
    "# plt.xlabel('year', fontsize=18)\n",
    "# plt.ylabel('Social Support', fontsize=16)\n",
    "# plt.plot(test, color='green')\n",
    "# plt.plot(predictions, color='red')\n",
    "# plt.show()"
   ]
  },
  {
   "cell_type": "code",
   "execution_count": null,
   "metadata": {},
   "outputs": [],
   "source": [
    "# from statsmodels.tsa.seasonal import seasonal_decompose\n",
    "# series = pd.Series(c4_social_avg_trend)\n",
    "# series\n",
    "# result = seasonal_decompose(series, model='additive', period=1)\n",
    "# result.plot()"
   ]
  },
  {
   "cell_type": "code",
   "execution_count": null,
   "metadata": {},
   "outputs": [],
   "source": []
  }
 ],
 "metadata": {
  "kernelspec": {
   "display_name": "py37",
   "language": "python",
   "name": "py37"
  },
  "language_info": {
   "codemirror_mode": {
    "name": "ipython",
    "version": 3
   },
   "file_extension": ".py",
   "mimetype": "text/x-python",
   "name": "python",
   "nbconvert_exporter": "python",
   "pygments_lexer": "ipython3",
   "version": "3.7.9"
  }
 },
 "nbformat": 4,
 "nbformat_minor": 2
}
