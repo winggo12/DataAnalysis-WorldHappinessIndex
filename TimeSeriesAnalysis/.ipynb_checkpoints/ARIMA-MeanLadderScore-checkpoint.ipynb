{
 "cells": [
  {
   "cell_type": "code",
   "execution_count": 1,
   "metadata": {},
   "outputs": [],
   "source": [
    "import math\n",
    "import numpy as np # linear algebra\n",
    "import pandas as pd # data processing, CSV file\n",
    "\n",
    "# For visvalization\n",
    "import matplotlib.pyplot as plt\n",
    "import seaborn as sns\n",
    "# import geopandas as gpd\n",
    "\n",
    "%matplotlib inline"
   ]
  },
  {
   "cell_type": "code",
   "execution_count": 2,
   "metadata": {},
   "outputs": [],
   "source": [
    "df_ts = pd.read_csv('../dataset/normalized_filled_clean_data/normalized-filled-clean-world-happiness-report.csv')"
   ]
  },
  {
   "cell_type": "code",
   "execution_count": 3,
   "metadata": {},
   "outputs": [
    {
     "data": {
      "text/html": [
       "<div>\n",
       "<style scoped>\n",
       "    .dataframe tbody tr th:only-of-type {\n",
       "        vertical-align: middle;\n",
       "    }\n",
       "\n",
       "    .dataframe tbody tr th {\n",
       "        vertical-align: top;\n",
       "    }\n",
       "\n",
       "    .dataframe thead th {\n",
       "        text-align: right;\n",
       "    }\n",
       "</style>\n",
       "<table border=\"1\" class=\"dataframe\">\n",
       "  <thead>\n",
       "    <tr style=\"text-align: right;\">\n",
       "      <th></th>\n",
       "      <th>Country name</th>\n",
       "      <th>year</th>\n",
       "      <th>Life Ladder</th>\n",
       "      <th>Log GDP per capita</th>\n",
       "      <th>Social support</th>\n",
       "      <th>Healthy life expectancy at birth</th>\n",
       "      <th>Freedom to make life choices</th>\n",
       "      <th>Generosity</th>\n",
       "      <th>Perceptions of corruption</th>\n",
       "    </tr>\n",
       "  </thead>\n",
       "  <tbody>\n",
       "    <tr>\n",
       "      <th>0</th>\n",
       "      <td>Afghanistan</td>\n",
       "      <td>2006</td>\n",
       "      <td>0.241065</td>\n",
       "      <td>0.139235</td>\n",
       "      <td>0.229885</td>\n",
       "      <td>0.412946</td>\n",
       "      <td>0.632737</td>\n",
       "      <td>0.486931</td>\n",
       "      <td>0.893460</td>\n",
       "    </tr>\n",
       "    <tr>\n",
       "      <th>1</th>\n",
       "      <td>Afghanistan</td>\n",
       "      <td>2007</td>\n",
       "      <td>0.241065</td>\n",
       "      <td>0.139235</td>\n",
       "      <td>0.229885</td>\n",
       "      <td>0.412946</td>\n",
       "      <td>0.632737</td>\n",
       "      <td>0.486931</td>\n",
       "      <td>0.893460</td>\n",
       "    </tr>\n",
       "    <tr>\n",
       "      <th>2</th>\n",
       "      <td>Afghanistan</td>\n",
       "      <td>2008</td>\n",
       "      <td>0.241065</td>\n",
       "      <td>0.139235</td>\n",
       "      <td>0.229885</td>\n",
       "      <td>0.412946</td>\n",
       "      <td>0.632737</td>\n",
       "      <td>0.486931</td>\n",
       "      <td>0.893460</td>\n",
       "    </tr>\n",
       "    <tr>\n",
       "      <th>3</th>\n",
       "      <td>Afghanistan</td>\n",
       "      <td>2009</td>\n",
       "      <td>0.362223</td>\n",
       "      <td>0.173441</td>\n",
       "      <td>0.375000</td>\n",
       "      <td>0.421875</td>\n",
       "      <td>0.579092</td>\n",
       "      <td>0.508228</td>\n",
       "      <td>0.859705</td>\n",
       "    </tr>\n",
       "    <tr>\n",
       "      <th>4</th>\n",
       "      <td>Afghanistan</td>\n",
       "      <td>2010</td>\n",
       "      <td>0.425840</td>\n",
       "      <td>0.194970</td>\n",
       "      <td>0.356322</td>\n",
       "      <td>0.430804</td>\n",
       "      <td>0.470426</td>\n",
       "      <td>0.441433</td>\n",
       "      <td>0.708861</td>\n",
       "    </tr>\n",
       "    <tr>\n",
       "      <th>...</th>\n",
       "      <td>...</td>\n",
       "      <td>...</td>\n",
       "      <td>...</td>\n",
       "      <td>...</td>\n",
       "      <td>...</td>\n",
       "      <td>...</td>\n",
       "      <td>...</td>\n",
       "      <td>...</td>\n",
       "      <td>...</td>\n",
       "    </tr>\n",
       "    <tr>\n",
       "      <th>2251</th>\n",
       "      <td>Zimbabwe</td>\n",
       "      <td>2017</td>\n",
       "      <td>0.225697</td>\n",
       "      <td>0.269215</td>\n",
       "      <td>0.665230</td>\n",
       "      <td>0.506696</td>\n",
       "      <td>0.680880</td>\n",
       "      <td>0.229429</td>\n",
       "      <td>0.755274</td>\n",
       "    </tr>\n",
       "    <tr>\n",
       "      <th>2252</th>\n",
       "      <td>Zimbabwe</td>\n",
       "      <td>2018</td>\n",
       "      <td>0.221766</td>\n",
       "      <td>0.275855</td>\n",
       "      <td>0.695402</td>\n",
       "      <td>0.520089</td>\n",
       "      <td>0.694635</td>\n",
       "      <td>0.258470</td>\n",
       "      <td>0.853376</td>\n",
       "    </tr>\n",
       "    <tr>\n",
       "      <th>2253</th>\n",
       "      <td>Zimbabwe</td>\n",
       "      <td>2019</td>\n",
       "      <td>0.057005</td>\n",
       "      <td>0.255936</td>\n",
       "      <td>0.672414</td>\n",
       "      <td>0.533482</td>\n",
       "      <td>0.514443</td>\n",
       "      <td>0.262343</td>\n",
       "      <td>0.839662</td>\n",
       "    </tr>\n",
       "    <tr>\n",
       "      <th>2254</th>\n",
       "      <td>Zimbabwe</td>\n",
       "      <td>2020</td>\n",
       "      <td>0.140279</td>\n",
       "      <td>0.231590</td>\n",
       "      <td>0.612069</td>\n",
       "      <td>0.546875</td>\n",
       "      <td>0.529574</td>\n",
       "      <td>0.315586</td>\n",
       "      <td>0.795359</td>\n",
       "    </tr>\n",
       "    <tr>\n",
       "      <th>2255</th>\n",
       "      <td>Zimbabwe</td>\n",
       "      <td>2021</td>\n",
       "      <td>0.137598</td>\n",
       "      <td>0.254527</td>\n",
       "      <td>0.659483</td>\n",
       "      <td>0.533504</td>\n",
       "      <td>0.576341</td>\n",
       "      <td>0.278800</td>\n",
       "      <td>0.829114</td>\n",
       "    </tr>\n",
       "  </tbody>\n",
       "</table>\n",
       "<p>2256 rows × 9 columns</p>\n",
       "</div>"
      ],
      "text/plain": [
       "     Country name  year  Life Ladder  Log GDP per capita  Social support  \\\n",
       "0     Afghanistan  2006     0.241065            0.139235        0.229885   \n",
       "1     Afghanistan  2007     0.241065            0.139235        0.229885   \n",
       "2     Afghanistan  2008     0.241065            0.139235        0.229885   \n",
       "3     Afghanistan  2009     0.362223            0.173441        0.375000   \n",
       "4     Afghanistan  2010     0.425840            0.194970        0.356322   \n",
       "...           ...   ...          ...                 ...             ...   \n",
       "2251     Zimbabwe  2017     0.225697            0.269215        0.665230   \n",
       "2252     Zimbabwe  2018     0.221766            0.275855        0.695402   \n",
       "2253     Zimbabwe  2019     0.057005            0.255936        0.672414   \n",
       "2254     Zimbabwe  2020     0.140279            0.231590        0.612069   \n",
       "2255     Zimbabwe  2021     0.137598            0.254527        0.659483   \n",
       "\n",
       "      Healthy life expectancy at birth  Freedom to make life choices  \\\n",
       "0                             0.412946                      0.632737   \n",
       "1                             0.412946                      0.632737   \n",
       "2                             0.412946                      0.632737   \n",
       "3                             0.421875                      0.579092   \n",
       "4                             0.430804                      0.470426   \n",
       "...                                ...                           ...   \n",
       "2251                          0.506696                      0.680880   \n",
       "2252                          0.520089                      0.694635   \n",
       "2253                          0.533482                      0.514443   \n",
       "2254                          0.546875                      0.529574   \n",
       "2255                          0.533504                      0.576341   \n",
       "\n",
       "      Generosity  Perceptions of corruption  \n",
       "0       0.486931                   0.893460  \n",
       "1       0.486931                   0.893460  \n",
       "2       0.486931                   0.893460  \n",
       "3       0.508228                   0.859705  \n",
       "4       0.441433                   0.708861  \n",
       "...          ...                        ...  \n",
       "2251    0.229429                   0.755274  \n",
       "2252    0.258470                   0.853376  \n",
       "2253    0.262343                   0.839662  \n",
       "2254    0.315586                   0.795359  \n",
       "2255    0.278800                   0.829114  \n",
       "\n",
       "[2256 rows x 9 columns]"
      ]
     },
     "execution_count": 3,
     "metadata": {},
     "output_type": "execute_result"
    }
   ],
   "source": [
    "df_ts"
   ]
  },
  {
   "cell_type": "code",
   "execution_count": 4,
   "metadata": {},
   "outputs": [],
   "source": [
    "#2006 - 2021\n",
    "init = 2006\n",
    "years = []\n",
    "for i in range(16):\n",
    "    years.append(init)\n",
    "    init += 1"
   ]
  },
  {
   "cell_type": "code",
   "execution_count": 5,
   "metadata": {},
   "outputs": [
    {
     "data": {
      "text/plain": [
       "{2006: 0.5279125413796076,\n",
       " 2007: 0.5424333194767625,\n",
       " 2008: 0.5428721460955732,\n",
       " 2009: 0.5486183984845637,\n",
       " 2010: 0.5488680702359168,\n",
       " 2011: 0.5552298416464307,\n",
       " 2012: 0.5462519031662262,\n",
       " 2013: 0.5440575377211347,\n",
       " 2014: 0.5481518587238099,\n",
       " 2015: 0.5444899852478217,\n",
       " 2016: 0.5473950913942245,\n",
       " 2017: 0.5612078113884115,\n",
       " 2018: 0.5695678017226083,\n",
       " 2019: 0.5744997693387878,\n",
       " 2020: 0.5728997156023298,\n",
       " 2021: 0.5720943024145918}"
      ]
     },
     "execution_count": 5,
     "metadata": {},
     "output_type": "execute_result"
    }
   ],
   "source": [
    "##Average Value of Life Ladder according to year\n",
    "avg_dict = {}\n",
    "for year in years:\n",
    "    avg_dict[year] = df_ts[df_ts['year'] == year]['Life Ladder'].mean()\n",
    "    \n",
    "avg_dict"
   ]
  },
  {
   "cell_type": "code",
   "execution_count": 6,
   "metadata": {
    "scrolled": true
   },
   "outputs": [
    {
     "data": {
      "image/png": "[encoded data removed]",
      "text/plain": [
       "<Figure size 432x288 with 1 Axes>"
      ]
     },
     "metadata": {
      "needs_background": "light"
     },
     "output_type": "display_data"
    }
   ],
   "source": [
    "##\n",
    "fig = plt.figure()\n",
    "fig.suptitle('Mean of Life Ladder', fontsize=20)\n",
    "plt.xlabel('year', fontsize=18)\n",
    "plt.ylabel('Life Ladder', fontsize=16)\n",
    "plt.scatter(range(len(avg_dict)), list(avg_dict.values()))\n",
    "plt.plot(range(len(avg_dict)), list(avg_dict.values()))\n",
    "plt.xticks(range(len(avg_dict)), list(avg_dict.keys()))\n",
    "plt.show()"
   ]
  },
  {
   "cell_type": "markdown",
   "metadata": {},
   "source": [
    "Averge Data to Pandas Series"
   ]
  },
  {
   "cell_type": "code",
   "execution_count": 7,
   "metadata": {
    "scrolled": true
   },
   "outputs": [],
   "source": [
    "##https://stackoverflow.com/questions/36038927/whats-the-difference-between-pandas-acf-and-statsmodel-acf\n",
    "avg = []\n",
    "\n",
    "for a in avg_dict.values():\n",
    "    avg.append(a)\n",
    "\n",
    "avg = pd.Series(avg)\n",
    "#acf = [avg.autocorr(i) for i in range(len(avg)-1)]\n",
    "#print(acf)\n",
    "#acf = pd.DataFrame(acf)\n",
    "#acf.plot(kind='bar')"
   ]
  },
  {
   "cell_type": "markdown",
   "metadata": {},
   "source": [
    "ACF Plot"
   ]
  },
  {
   "cell_type": "code",
   "execution_count": 8,
   "metadata": {},
   "outputs": [
    {
     "data": {
      "image/png": "[encoded data removed]",
      "text/plain": [
       "<Figure size 432x288 with 1 Axes>"
      ]
     },
     "execution_count": 8,
     "metadata": {},
     "output_type": "execute_result"
    },
    {
     "data": {
      "image/png": "[encoded data removed]",
      "text/plain": [
       "<Figure size 432x288 with 1 Axes>"
      ]
     },
     "metadata": {
      "needs_background": "light"
     },
     "output_type": "display_data"
    }
   ],
   "source": [
    "from statsmodels.graphics.tsaplots import plot_acf\n",
    "plot_acf(avg, lags=10)"
   ]
  },
  {
   "cell_type": "markdown",
   "metadata": {},
   "source": [
    "PCAF Plot"
   ]
  },
  {
   "cell_type": "code",
   "execution_count": 9,
   "metadata": {},
   "outputs": [
    {
     "data": {
      "image/png": "[encoded data removed]",
      "text/plain": [
       "<Figure size 432x288 with 1 Axes>"
      ]
     },
     "execution_count": 9,
     "metadata": {},
     "output_type": "execute_result"
    },
    {
     "data": {
      "image/png": "[encoded data removed]",
      "text/plain": [
       "<Figure size 432x288 with 1 Axes>"
      ]
     },
     "metadata": {
      "needs_background": "light"
     },
     "output_type": "display_data"
    }
   ],
   "source": [
    "from statsmodels.graphics.tsaplots import plot_pacf\n",
    "plot_pacf(avg, lags=6)"
   ]
  },
  {
   "cell_type": "markdown",
   "metadata": {},
   "source": [
    "The parameters of the ARIMA model are defined as follows:\n",
    "\n",
    "p: The number of lag observations included in the model, also called the lag order.\n",
    "d: The number of times that the raw observations are differenced, also called the degree of differencing.\n",
    "q: The size of the moving average window, also called the order of moving average."
   ]
  },
  {
   "cell_type": "code",
   "execution_count": 10,
   "metadata": {},
   "outputs": [
    {
     "name": "stdout",
     "output_type": "stream",
     "text": [
      "                               SARIMAX Results                                \n",
      "==============================================================================\n",
      "Dep. Variable:                      y   No. Observations:                   16\n",
      "Model:                 ARIMA(1, 1, 0)   Log Likelihood                  53.875\n",
      "Date:                Thu, 24 Jun 2021   AIC                           -103.749\n",
      "Time:                        19:28:51   BIC                           -102.333\n",
      "Sample:                             0   HQIC                          -103.764\n",
      "                                 - 16                                         \n",
      "Covariance Type:                  opg                                         \n",
      "==============================================================================\n",
      "                 coef    std err          z      P>|z|      [0.025      0.975]\n",
      "------------------------------------------------------------------------------\n",
      "ar.L1          0.1869      0.365      0.513      0.608      -0.528       0.902\n",
      "sigma2      4.437e-05   1.68e-05      2.649      0.008    1.15e-05    7.72e-05\n",
      "===================================================================================\n",
      "Ljung-Box (L1) (Q):                   0.29   Jarque-Bera (JB):                 0.09\n",
      "Prob(Q):                              0.59   Prob(JB):                         0.96\n",
      "Heteroskedasticity (H):               0.81   Skew:                             0.15\n",
      "Prob(H) (two-sided):                  0.82   Kurtosis:                         2.79\n",
      "===================================================================================\n",
      "\n",
      "Warnings:\n",
      "[1] Covariance matrix calculated using the outer product of gradients (complex-step).\n"
     ]
    },
    {
     "name": "stderr",
     "output_type": "stream",
     "text": [
      "C:\\Users\\wing9\\anaconda3\\envs\\py37\\lib\\site-packages\\statsmodels\\base\\model.py:568: ConvergenceWarning: Maximum Likelihood optimization failed to converge. Check mle_retvals\n",
      "  ConvergenceWarning)\n"
     ]
    }
   ],
   "source": [
    "from statsmodels.tsa.arima.model import ARIMA\n",
    "model = ARIMA(avg, order=(1,1,0))\n",
    "model_fit = model.fit()\n",
    "# summary of fit model\n",
    "print(model_fit.summary())"
   ]
  },
  {
   "cell_type": "markdown",
   "metadata": {},
   "source": [
    "Line Plot of Residual:"
   ]
  },
  {
   "cell_type": "code",
   "execution_count": 11,
   "metadata": {},
   "outputs": [
    {
     "data": {
      "image/png": "[encoded data removed]",
      "text/plain": [
       "<Figure size 432x288 with 1 Axes>"
      ]
     },
     "metadata": {
      "needs_background": "light"
     },
     "output_type": "display_data"
    }
   ],
   "source": [
    "from pandas import DataFrame\n",
    "# line plot of residuals\n",
    "residuals = DataFrame(model_fit.resid)\n",
    "residuals.plot()\n",
    "plt.show()"
   ]
  },
  {
   "cell_type": "code",
   "execution_count": 12,
   "metadata": {},
   "outputs": [
    {
     "data": {
      "text/html": [
       "<div>\n",
       "<style scoped>\n",
       "    .dataframe tbody tr th:only-of-type {\n",
       "        vertical-align: middle;\n",
       "    }\n",
       "\n",
       "    .dataframe tbody tr th {\n",
       "        vertical-align: top;\n",
       "    }\n",
       "\n",
       "    .dataframe thead th {\n",
       "        text-align: right;\n",
       "    }\n",
       "</style>\n",
       "<table border=\"1\" class=\"dataframe\">\n",
       "  <thead>\n",
       "    <tr style=\"text-align: right;\">\n",
       "      <th></th>\n",
       "      <th>0</th>\n",
       "    </tr>\n",
       "  </thead>\n",
       "  <tbody>\n",
       "    <tr>\n",
       "      <th>0</th>\n",
       "      <td>0.527913</td>\n",
       "    </tr>\n",
       "    <tr>\n",
       "      <th>1</th>\n",
       "      <td>0.014521</td>\n",
       "    </tr>\n",
       "    <tr>\n",
       "      <th>2</th>\n",
       "      <td>-0.002275</td>\n",
       "    </tr>\n",
       "    <tr>\n",
       "      <th>3</th>\n",
       "      <td>0.005664</td>\n",
       "    </tr>\n",
       "    <tr>\n",
       "      <th>4</th>\n",
       "      <td>-0.000824</td>\n",
       "    </tr>\n",
       "    <tr>\n",
       "      <th>5</th>\n",
       "      <td>0.006315</td>\n",
       "    </tr>\n",
       "    <tr>\n",
       "      <th>6</th>\n",
       "      <td>-0.010167</td>\n",
       "    </tr>\n",
       "    <tr>\n",
       "      <th>7</th>\n",
       "      <td>-0.000516</td>\n",
       "    </tr>\n",
       "    <tr>\n",
       "      <th>8</th>\n",
       "      <td>0.004504</td>\n",
       "    </tr>\n",
       "    <tr>\n",
       "      <th>9</th>\n",
       "      <td>-0.004427</td>\n",
       "    </tr>\n",
       "    <tr>\n",
       "      <th>10</th>\n",
       "      <td>0.003589</td>\n",
       "    </tr>\n",
       "    <tr>\n",
       "      <th>11</th>\n",
       "      <td>0.013270</td>\n",
       "    </tr>\n",
       "    <tr>\n",
       "      <th>12</th>\n",
       "      <td>0.005778</td>\n",
       "    </tr>\n",
       "    <tr>\n",
       "      <th>13</th>\n",
       "      <td>0.003370</td>\n",
       "    </tr>\n",
       "    <tr>\n",
       "      <th>14</th>\n",
       "      <td>-0.002522</td>\n",
       "    </tr>\n",
       "    <tr>\n",
       "      <th>15</th>\n",
       "      <td>-0.000506</td>\n",
       "    </tr>\n",
       "  </tbody>\n",
       "</table>\n",
       "</div>"
      ],
      "text/plain": [
       "           0\n",
       "0   0.527913\n",
       "1   0.014521\n",
       "2  -0.002275\n",
       "3   0.005664\n",
       "4  -0.000824\n",
       "5   0.006315\n",
       "6  -0.010167\n",
       "7  -0.000516\n",
       "8   0.004504\n",
       "9  -0.004427\n",
       "10  0.003589\n",
       "11  0.013270\n",
       "12  0.005778\n",
       "13  0.003370\n",
       "14 -0.002522\n",
       "15 -0.000506"
      ]
     },
     "execution_count": 12,
     "metadata": {},
     "output_type": "execute_result"
    }
   ],
   "source": [
    "residuals"
   ]
  },
  {
   "cell_type": "code",
   "execution_count": 13,
   "metadata": {
    "scrolled": true
   },
   "outputs": [
    {
     "data": {
      "image/png": "[encoded data removed]",
      "text/plain": [
       "<Figure size 432x288 with 1 Axes>"
      ]
     },
     "metadata": {
      "needs_background": "light"
     },
     "output_type": "display_data"
    }
   ],
   "source": [
    "# density plot of residuals\n",
    "residuals.plot(kind='kde')\n",
    "plt.show()"
   ]
  },
  {
   "cell_type": "code",
   "execution_count": 14,
   "metadata": {},
   "outputs": [
    {
     "name": "stdout",
     "output_type": "stream",
     "text": [
      "               0\n",
      "count  16.000000\n",
      "mean    0.035230\n",
      "std     0.131531\n",
      "min    -0.010167\n",
      "25%    -0.001187\n",
      "50%     0.003480\n",
      "75%     0.005913\n",
      "max     0.527913\n"
     ]
    }
   ],
   "source": [
    "# summary stats of residuals\n",
    "print(residuals.describe())"
   ]
  },
  {
   "cell_type": "code",
   "execution_count": 15,
   "metadata": {},
   "outputs": [],
   "source": [
    "X = avg.values"
   ]
  },
  {
   "cell_type": "code",
   "execution_count": 16,
   "metadata": {},
   "outputs": [
    {
     "data": {
      "text/plain": [
       "array([0.52791254, 0.54243332, 0.54287215, 0.5486184 , 0.54886807,\n",
       "       0.55522984, 0.5462519 , 0.54405754, 0.54815186, 0.54448999,\n",
       "       0.54739509, 0.56120781, 0.5695678 , 0.57449977, 0.57289972,\n",
       "       0.5720943 ])"
      ]
     },
     "execution_count": 16,
     "metadata": {},
     "output_type": "execute_result"
    }
   ],
   "source": [
    "X"
   ]
  },
  {
   "cell_type": "code",
   "execution_count": 17,
   "metadata": {},
   "outputs": [
    {
     "name": "stdout",
     "output_type": "stream",
     "text": [
      "predicted=0.544958, expected=0.547395\n",
      "predicted=0.546959, expected=0.561208\n",
      "predicted=0.560532, expected=0.569568\n",
      "predicted=0.570900, expected=0.574500\n",
      "predicted=0.575507, expected=0.572900\n",
      "predicted=0.572603, expected=0.572094\n",
      "Test RMSE: 0.007\n"
     ]
    },
    {
     "name": "stderr",
     "output_type": "stream",
     "text": [
      "C:\\Users\\wing9\\anaconda3\\envs\\py37\\lib\\site-packages\\statsmodels\\base\\model.py:568: ConvergenceWarning: Maximum Likelihood optimization failed to converge. Check mle_retvals\n",
      "  ConvergenceWarning)\n",
      "C:\\Users\\wing9\\anaconda3\\envs\\py37\\lib\\site-packages\\statsmodels\\base\\model.py:568: ConvergenceWarning: Maximum Likelihood optimization failed to converge. Check mle_retvals\n",
      "  ConvergenceWarning)\n",
      "C:\\Users\\wing9\\anaconda3\\envs\\py37\\lib\\site-packages\\statsmodels\\base\\model.py:568: ConvergenceWarning: Maximum Likelihood optimization failed to converge. Check mle_retvals\n",
      "  ConvergenceWarning)\n",
      "C:\\Users\\wing9\\anaconda3\\envs\\py37\\lib\\site-packages\\statsmodels\\base\\model.py:568: ConvergenceWarning: Maximum Likelihood optimization failed to converge. Check mle_retvals\n",
      "  ConvergenceWarning)\n"
     ]
    },
    {
     "data": {
      "image/png": "[encoded data removed]",
      "text/plain": [
       "<Figure size 432x288 with 1 Axes>"
      ]
     },
     "metadata": {
      "needs_background": "light"
     },
     "output_type": "display_data"
    }
   ],
   "source": [
    "from sklearn.metrics import mean_squared_error\n",
    "from math import sqrt\n",
    "# split into train and test sets\n",
    "size = int(len(X) * 0.66)\n",
    "train, test = X[0:size], X[size:len(X)]\n",
    "history = [x for x in train]\n",
    "predictions = list()\n",
    "# walk-forward validation\n",
    "for t in range(len(test)):\n",
    "\tmodel = ARIMA(history, order=(1,1,0))\n",
    "\tmodel_fit = model.fit()\n",
    "\toutput = model_fit.forecast()\n",
    "\tyhat = output[0]\n",
    "\tpredictions.append(yhat)\n",
    "\tobs = test[t]\n",
    "\thistory.append(obs)\n",
    "\tprint('predicted=%f, expected=%f' % (yhat, obs))\n",
    "# evaluate forecasts\n",
    "rmse = sqrt(mean_squared_error(test, predictions))\n",
    "print('Test RMSE: %.3f' % rmse)\n",
    "# plot forecasts against actual outcomes\n",
    "fig = plt.figure()\n",
    "fig.suptitle('Mean of Life Ladder Prediction 2016-2021', fontsize=20)\n",
    "plt.xlabel('year', fontsize=18)\n",
    "plt.ylabel('Life Ladder', fontsize=16)\n",
    "plt.plot(test, color='green')\n",
    "plt.plot(predictions, color='red')\n",
    "plt.show()"
   ]
  },
  {
   "cell_type": "code",
   "execution_count": null,
   "metadata": {},
   "outputs": [],
   "source": []
  }
 ],
 "metadata": {
  "kernelspec": {
   "display_name": "py37",
   "language": "python",
   "name": "py37"
  },
  "language_info": {
   "codemirror_mode": {
    "name": "ipython",
    "version": 3
   },
   "file_extension": ".py",
   "mimetype": "text/x-python",
   "name": "python",
   "nbconvert_exporter": "python",
   "pygments_lexer": "ipython3",
   "version": "3.7.9"
  }
 },
 "nbformat": 4,
 "nbformat_minor": 2
}
