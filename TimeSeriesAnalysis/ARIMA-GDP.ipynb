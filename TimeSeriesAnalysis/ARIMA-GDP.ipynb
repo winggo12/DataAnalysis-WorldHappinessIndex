{
 "cells": [
  {
   "cell_type": "code",
   "execution_count": 1,
   "metadata": {},
   "outputs": [],
   "source": [
    "import math\n",
    "import numpy as np # linear algebra\n",
    "import pandas as pd # data processing, CSV file\n",
    "\n",
    "# For visvalization\n",
    "import matplotlib.pyplot as plt\n",
    "\n",
    "from pandas import DataFrame\n",
    "\n",
    "import seaborn as sns\n",
    "from statsmodels.graphics.tsaplots import plot_acf, plot_pacf\n",
    "from statsmodels.tsa.arima.model import ARIMA \n",
    "from statsmodels.tsa.ar_model import AR\n",
    "\n",
    "from matplotlib.font_manager import FontProperties\n",
    "\n",
    "%matplotlib inline"
   ]
  },
  {
   "cell_type": "markdown",
   "metadata": {},
   "source": [
    "# 1. Analyze the Overall Condition of Health Life Expectancy"
   ]
  },
  {
   "cell_type": "code",
   "execution_count": 2,
   "metadata": {},
   "outputs": [],
   "source": [
    "df_h_health = pd.read_csv('../dataset/correlation_clustered_data/HLE_clustered_cleaned_data_WA.csv')\n",
    "df_h_health = df_h_health.iloc[2:]\n",
    "df_h_social = pd.read_csv('../dataset/correlation_clustered_data/SS_clustered_cleaned_data_WA.csv')\n",
    "df_h_social = df_h_social.iloc[2:]"
   ]
  },
  {
   "cell_type": "code",
   "execution_count": 3,
   "metadata": {},
   "outputs": [],
   "source": [
    "c3_health_countries = df_h_health[df_h_health['Cluster'] == 'C3']['Country name']\n",
    "c1_social_countries = df_h_social[df_h_social['Cluster'] == 'C1']['Country name']"
   ]
  },
  {
   "cell_type": "code",
   "execution_count": 4,
   "metadata": {},
   "outputs": [
    {
     "name": "stdout",
     "output_type": "stream",
     "text": [
      "['North Cyprus', 'Hong Kong S.A.R. of China', 'Czech Republic', 'Kuwait', 'Taiwan Province of China', 'Luxembourg', 'Belgium', 'Canada', 'Germany', 'Switzerland', 'Greece', 'Lithuania', 'Finland', 'Portugal', 'Slovakia', 'South Korea', 'Austria', 'Italy', 'United Kingdom', 'Australia', 'United Arab Emirates', 'France', 'Sweden', 'Slovenia', 'Cyprus', 'Malta', 'Netherlands', 'Saudi Arabia', 'Denmark', 'New Zealand', 'Norway', 'Spain', 'Estonia', 'Japan', 'Ireland', 'Poland', 'Iceland', 'Singapore', 'United States', 'Bahrain', 'Hungary', 'Israel']\n"
     ]
    }
   ],
   "source": [
    "c_list = list(set(c3_health_countries.values.tolist() + c1_social_countries.values.tolist()))\n",
    "print(c_list)"
   ]
  },
  {
   "cell_type": "code",
   "execution_count": 5,
   "metadata": {},
   "outputs": [
    {
     "name": "stdout",
     "output_type": "stream",
     "text": [
      "Removed  North Cyprus\n",
      "Removed  Taiwan Province of China\n"
     ]
    }
   ],
   "source": [
    "invalid = ['Somalia', 'Maldives', 'Central African Republic', 'Gambia', \n",
    "                     'Lesotho', 'North Cyprus', 'Syria', 'Comoros', 'Belize'\n",
    "                     , 'Cuba', 'Oman', 'Suriname', 'Djibouti', \n",
    "                     'Somaliland region', 'Kosovo', 'Palestinian Territories',\n",
    "                     'Burundi', 'Qatar', 'South Sudan', 'Swaziland', 'Bhutan',\n",
    "                     'Taiwan Province of China', 'Hong Kong S.A.R. of China',\n",
    "                     'Angola', 'Namibia', 'Libya', 'Trinidad and Tobago', \n",
    "                     'Sudan', 'Jamaica', 'Guyana']\n",
    "\n",
    "for country in c_list:\n",
    "    if country in invalid:\n",
    "        c_list.remove(country)\n",
    "        print(\"Removed \", country)"
   ]
  },
  {
   "cell_type": "code",
   "execution_count": 6,
   "metadata": {},
   "outputs": [],
   "source": [
    "df_ts = pd.read_csv('../dataset/normalized_filled_clean_data/normalized-filled-clean-world-happiness-report.csv')"
   ]
  },
  {
   "cell_type": "code",
   "execution_count": 7,
   "metadata": {},
   "outputs": [
    {
     "name": "stdout",
     "output_type": "stream",
     "text": [
      "['Country name', 'year', 'Life Ladder', 'Log GDP per capita', 'Social support', 'Healthy life expectancy at birth', 'Freedom to make life choices', 'Generosity', 'Perceptions of corruption']\n"
     ]
    },
    {
     "data": {
      "text/html": [
       "<div>\n",
       "<style scoped>\n",
       "    .dataframe tbody tr th:only-of-type {\n",
       "        vertical-align: middle;\n",
       "    }\n",
       "\n",
       "    .dataframe tbody tr th {\n",
       "        vertical-align: top;\n",
       "    }\n",
       "\n",
       "    .dataframe thead th {\n",
       "        text-align: right;\n",
       "    }\n",
       "</style>\n",
       "<table border=\"1\" class=\"dataframe\">\n",
       "  <thead>\n",
       "    <tr style=\"text-align: right;\">\n",
       "      <th></th>\n",
       "      <th>Country name</th>\n",
       "      <th>year</th>\n",
       "      <th>Life Ladder</th>\n",
       "      <th>Log GDP per capita</th>\n",
       "      <th>Social support</th>\n",
       "      <th>Healthy life expectancy at birth</th>\n",
       "    </tr>\n",
       "  </thead>\n",
       "  <tbody>\n",
       "    <tr>\n",
       "      <th>0</th>\n",
       "      <td>Afghanistan</td>\n",
       "      <td>2006</td>\n",
       "      <td>0.241065</td>\n",
       "      <td>0.139235</td>\n",
       "      <td>0.229885</td>\n",
       "      <td>0.412946</td>\n",
       "    </tr>\n",
       "    <tr>\n",
       "      <th>1</th>\n",
       "      <td>Afghanistan</td>\n",
       "      <td>2007</td>\n",
       "      <td>0.241065</td>\n",
       "      <td>0.139235</td>\n",
       "      <td>0.229885</td>\n",
       "      <td>0.412946</td>\n",
       "    </tr>\n",
       "    <tr>\n",
       "      <th>2</th>\n",
       "      <td>Afghanistan</td>\n",
       "      <td>2008</td>\n",
       "      <td>0.241065</td>\n",
       "      <td>0.139235</td>\n",
       "      <td>0.229885</td>\n",
       "      <td>0.412946</td>\n",
       "    </tr>\n",
       "    <tr>\n",
       "      <th>3</th>\n",
       "      <td>Afghanistan</td>\n",
       "      <td>2009</td>\n",
       "      <td>0.362223</td>\n",
       "      <td>0.173441</td>\n",
       "      <td>0.375000</td>\n",
       "      <td>0.421875</td>\n",
       "    </tr>\n",
       "    <tr>\n",
       "      <th>4</th>\n",
       "      <td>Afghanistan</td>\n",
       "      <td>2010</td>\n",
       "      <td>0.425840</td>\n",
       "      <td>0.194970</td>\n",
       "      <td>0.356322</td>\n",
       "      <td>0.430804</td>\n",
       "    </tr>\n",
       "    <tr>\n",
       "      <th>...</th>\n",
       "      <td>...</td>\n",
       "      <td>...</td>\n",
       "      <td>...</td>\n",
       "      <td>...</td>\n",
       "      <td>...</td>\n",
       "      <td>...</td>\n",
       "    </tr>\n",
       "    <tr>\n",
       "      <th>2251</th>\n",
       "      <td>Zimbabwe</td>\n",
       "      <td>2017</td>\n",
       "      <td>0.225697</td>\n",
       "      <td>0.269215</td>\n",
       "      <td>0.665230</td>\n",
       "      <td>0.506696</td>\n",
       "    </tr>\n",
       "    <tr>\n",
       "      <th>2252</th>\n",
       "      <td>Zimbabwe</td>\n",
       "      <td>2018</td>\n",
       "      <td>0.221766</td>\n",
       "      <td>0.275855</td>\n",
       "      <td>0.695402</td>\n",
       "      <td>0.520089</td>\n",
       "    </tr>\n",
       "    <tr>\n",
       "      <th>2253</th>\n",
       "      <td>Zimbabwe</td>\n",
       "      <td>2019</td>\n",
       "      <td>0.057005</td>\n",
       "      <td>0.255936</td>\n",
       "      <td>0.672414</td>\n",
       "      <td>0.533482</td>\n",
       "    </tr>\n",
       "    <tr>\n",
       "      <th>2254</th>\n",
       "      <td>Zimbabwe</td>\n",
       "      <td>2020</td>\n",
       "      <td>0.140279</td>\n",
       "      <td>0.231590</td>\n",
       "      <td>0.612069</td>\n",
       "      <td>0.546875</td>\n",
       "    </tr>\n",
       "    <tr>\n",
       "      <th>2255</th>\n",
       "      <td>Zimbabwe</td>\n",
       "      <td>2021</td>\n",
       "      <td>0.137598</td>\n",
       "      <td>0.254527</td>\n",
       "      <td>0.659483</td>\n",
       "      <td>0.533504</td>\n",
       "    </tr>\n",
       "  </tbody>\n",
       "</table>\n",
       "<p>2256 rows × 6 columns</p>\n",
       "</div>"
      ],
      "text/plain": [
       "     Country name  year  Life Ladder  Log GDP per capita  Social support  \\\n",
       "0     Afghanistan  2006     0.241065            0.139235        0.229885   \n",
       "1     Afghanistan  2007     0.241065            0.139235        0.229885   \n",
       "2     Afghanistan  2008     0.241065            0.139235        0.229885   \n",
       "3     Afghanistan  2009     0.362223            0.173441        0.375000   \n",
       "4     Afghanistan  2010     0.425840            0.194970        0.356322   \n",
       "...           ...   ...          ...                 ...             ...   \n",
       "2251     Zimbabwe  2017     0.225697            0.269215        0.665230   \n",
       "2252     Zimbabwe  2018     0.221766            0.275855        0.695402   \n",
       "2253     Zimbabwe  2019     0.057005            0.255936        0.672414   \n",
       "2254     Zimbabwe  2020     0.140279            0.231590        0.612069   \n",
       "2255     Zimbabwe  2021     0.137598            0.254527        0.659483   \n",
       "\n",
       "      Healthy life expectancy at birth  \n",
       "0                             0.412946  \n",
       "1                             0.412946  \n",
       "2                             0.412946  \n",
       "3                             0.421875  \n",
       "4                             0.430804  \n",
       "...                                ...  \n",
       "2251                          0.506696  \n",
       "2252                          0.520089  \n",
       "2253                          0.533482  \n",
       "2254                          0.546875  \n",
       "2255                          0.533504  \n",
       "\n",
       "[2256 rows x 6 columns]"
      ]
     },
     "execution_count": 7,
     "metadata": {},
     "output_type": "execute_result"
    }
   ],
   "source": [
    "columns = list(df_ts.columns)\n",
    "print(columns)\n",
    "selected_cols = ['Log GDP per capita','Social support','Healthy life expectancy at birth','Life Ladder','Country name', 'year']\n",
    "for col in columns:\n",
    "    if(col not in selected_cols):\n",
    "        df_ts = df_ts.drop([col], axis=1)\n",
    "\n",
    "df_ts"
   ]
  },
  {
   "cell_type": "code",
   "execution_count": 8,
   "metadata": {},
   "outputs": [],
   "source": [
    "df_c3 = df_ts[df_ts['Country name'].isin(c_list)]"
   ]
  },
  {
   "cell_type": "code",
   "execution_count": 9,
   "metadata": {},
   "outputs": [],
   "source": [
    "#2006 - 2021\n",
    "init = 2006\n",
    "years = []\n",
    "for i in range(16):\n",
    "    years.append(init)\n",
    "    init += 1"
   ]
  },
  {
   "cell_type": "code",
   "execution_count": 10,
   "metadata": {},
   "outputs": [],
   "source": [
    "def get_yrly_avg_dict(df, years, col_item):\n",
    "    avg_trend = {}\n",
    "    for year in years:\n",
    "        mean = df[df['year'] == year][col_item].mean()\n",
    "        avg_trend[year] = mean\n",
    "#     print(avg_trend)\n",
    "    return avg_trend"
   ]
  },
  {
   "cell_type": "code",
   "execution_count": 11,
   "metadata": {},
   "outputs": [],
   "source": [
    "def plot_by_dict(dis_dict, title, xlabel, ylabel):\n",
    "    fig = plt.figure()\n",
    "    fig.suptitle(title, fontsize=20)\n",
    "    plt.xlabel(xlabel, fontsize=18)\n",
    "    plt.ylabel(ylabel, fontsize=16)\n",
    "    plt.scatter(range(len(dis_dict)), list(dis_dict.values()))\n",
    "    plt.plot(range(len(dis_dict)), list(dis_dict.values()))\n",
    "    plt.xticks(range(len(dis_dict)), list(dis_dict.keys()))\n",
    "    plt.show()\n",
    "\n",
    "    \n",
    "def plot_acf_by_dict(dis_dict, lags):\n",
    "    avg = []\n",
    "    for a in dis_dict.values():\n",
    "        avg.append(a)\n",
    "    avg = pd.Series(avg)\n",
    "    plot_acf(avg, lags=lags)\n",
    "    \n",
    "def plot_pacf_by_dict(dis_dict, lags):\n",
    "    avg = []\n",
    "    for a in dis_dict.values():\n",
    "        avg.append(a)\n",
    "    avg = pd.Series(avg)\n",
    "    plot_pacf(avg, lags=lags)"
   ]
  },
  {
   "cell_type": "markdown",
   "metadata": {},
   "source": [
    "# Basic Plotting"
   ]
  },
  {
   "cell_type": "code",
   "execution_count": 12,
   "metadata": {},
   "outputs": [
    {
     "name": "stdout",
     "output_type": "stream",
     "text": [
      "{2006: 0.8043360160965793, 2007: 0.8058366867873911, 2008: 0.8052221663313214, 2009: 0.7989549798792756, 2010: 0.8012500000000002, 2011: 0.8042064889336015, 2012: 0.8041046277665995, 2013: 0.8054250503018109, 2014: 0.8090769617706236, 2015: 0.8138782696177064, 2016: 0.8174647887323945, 2017: 0.8216901408450706, 2018: 0.8255583501006036, 2019: 0.8277087525150906, 2020: 0.8166876257545275, 2021: 0.8230985915492959}\n"
     ]
    },
    {
     "data": {
      "image/png": "[encoded data removed]",
      "text/plain": [
       "<Figure size 432x288 with 1 Axes>"
      ]
     },
     "metadata": {
      "needs_background": "light"
     },
     "output_type": "display_data"
    }
   ],
   "source": [
    "c3_gdp_avg_trend = get_yrly_avg_dict(df_c3, years, col_item = 'Log GDP per capita')\n",
    "print(c3_gdp_avg_trend)\n",
    "plot_by_dict(c3_gdp_avg_trend, \"Mean of GDP in C3\", \"year\", \"GDP\")"
   ]
  },
  {
   "cell_type": "markdown",
   "metadata": {},
   "source": [
    "# Differencing Plot"
   ]
  },
  {
   "cell_type": "code",
   "execution_count": 13,
   "metadata": {},
   "outputs": [
    {
     "data": {
      "text/plain": [
       "array([<AxesSubplot:>], dtype=object)"
      ]
     },
     "execution_count": 13,
     "metadata": {},
     "output_type": "execute_result"
    },
    {
     "data": {
      "image/png": "[encoded data removed]",
      "text/plain": [
       "<Figure size 1080x288 with 1 Axes>"
      ]
     },
     "metadata": {
      "needs_background": "light"
     },
     "output_type": "display_data"
    }
   ],
   "source": [
    "ser = pd.Series(c3_gdp_avg_trend.values())\n",
    "ser.diff(periods=2).plot(subplots=True, figsize=(15,4))"
   ]
  },
  {
   "cell_type": "markdown",
   "metadata": {},
   "source": [
    "# ACF, PACF Analysis"
   ]
  },
  {
   "cell_type": "code",
   "execution_count": 14,
   "metadata": {},
   "outputs": [
    {
     "data": {
      "image/png": "[encoded data removed]",
      "text/plain": [
       "<Figure size 432x288 with 1 Axes>"
      ]
     },
     "metadata": {
      "needs_background": "light"
     },
     "output_type": "display_data"
    }
   ],
   "source": [
    "plot_acf_by_dict(c3_gdp_avg_trend, lags=15)"
   ]
  },
  {
   "cell_type": "code",
   "execution_count": 15,
   "metadata": {},
   "outputs": [
    {
     "name": "stderr",
     "output_type": "stream",
     "text": [
      "C:\\Users\\wing9\\anaconda3\\envs\\py37\\lib\\site-packages\\statsmodels\\regression\\linear_model.py:1434: RuntimeWarning: invalid value encountered in sqrt\n",
      "  return rho, np.sqrt(sigmasq)\n"
     ]
    },
    {
     "data": {
      "image/png": "[encoded data removed]",
      "text/plain": [
       "<Figure size 432x288 with 1 Axes>"
      ]
     },
     "metadata": {
      "needs_background": "light"
     },
     "output_type": "display_data"
    }
   ],
   "source": [
    "plot_pacf_by_dict(c3_gdp_avg_trend, lags=7)"
   ]
  },
  {
   "cell_type": "markdown",
   "metadata": {},
   "source": [
    "# ARIMA Model Analysis"
   ]
  },
  {
   "cell_type": "code",
   "execution_count": 16,
   "metadata": {},
   "outputs": [
    {
     "data": {
      "image/png": "[encoded data removed]",
      "text/plain": [
       "<Figure size 432x288 with 1 Axes>"
      ]
     },
     "metadata": {
      "needs_background": "light"
     },
     "output_type": "display_data"
    }
   ],
   "source": [
    "c3_avg = []\n",
    "for a in c3_gdp_avg_trend.values():\n",
    "    c3_avg.append(a)\n",
    "    \n",
    "c3_model = ARIMA(c3_avg, order=(0,2,1))\n",
    "c3_model_fit = c3_model.fit()\n",
    "\n",
    "residuals = DataFrame(c3_model_fit.resid)\n",
    "residuals.plot()\n",
    "plt.show()"
   ]
  },
  {
   "cell_type": "markdown",
   "metadata": {},
   "source": [
    "# ARIMA Model Prediction"
   ]
  },
  {
   "cell_type": "code",
   "execution_count": 17,
   "metadata": {},
   "outputs": [
    {
     "data": {
      "text/plain": [
       "array([0.80433602, 0.80583669, 0.80522217, 0.79895498, 0.80125   ,\n",
       "       0.80420649, 0.80410463, 0.80542505, 0.80907696, 0.81387827,\n",
       "       0.81746479, 0.82169014, 0.82555835, 0.82770875, 0.81668763,\n",
       "       0.82309859])"
      ]
     },
     "execution_count": 17,
     "metadata": {},
     "output_type": "execute_result"
    }
   ],
   "source": [
    "X = np.asarray(c3_avg)\n",
    "X"
   ]
  },
  {
   "cell_type": "code",
   "execution_count": 18,
   "metadata": {},
   "outputs": [
    {
     "name": "stdout",
     "output_type": "stream",
     "text": [
      "predicted=0.825900, expected=0.825558\n",
      "predicted=0.829439, expected=0.827709\n",
      "predicted=0.829860, expected=0.816688\n",
      "predicted=0.799126, expected=0.823099\n",
      "Test RMSE: 0.014\n"
     ]
    },
    {
     "name": "stderr",
     "output_type": "stream",
     "text": [
      "C:\\Users\\wing9\\anaconda3\\envs\\py37\\lib\\site-packages\\statsmodels\\base\\model.py:568: ConvergenceWarning: Maximum Likelihood optimization failed to converge. Check mle_retvals\n",
      "  ConvergenceWarning)\n",
      "C:\\Users\\wing9\\anaconda3\\envs\\py37\\lib\\site-packages\\statsmodels\\base\\model.py:568: ConvergenceWarning: Maximum Likelihood optimization failed to converge. Check mle_retvals\n",
      "  ConvergenceWarning)\n"
     ]
    },
    {
     "data": {
      "image/png": "[encoded data removed]",
      "text/plain": [
       "<Figure size 432x288 with 1 Axes>"
      ]
     },
     "metadata": {
      "needs_background": "light"
     },
     "output_type": "display_data"
    }
   ],
   "source": [
    "from sklearn.metrics import mean_squared_error\n",
    "from math import sqrt\n",
    "# split into train and test sets\n",
    "size = int(len(X) * 0.75)\n",
    "train, test = X[0:size], X[size:len(X)]\n",
    "history = [x for x in train]\n",
    "# print(history)\n",
    "predictions = list()\n",
    "# walk-forward validation\n",
    "for t in range(len(test)):\n",
    "\tmodel = ARIMA(history, order=(0,2,1))\n",
    "\tmodel_fit = model.fit()\n",
    "\toutput = model_fit.forecast()\n",
    "\tyhat = output[0]\n",
    "\tpredictions.append(yhat)\n",
    "\tobs = test[t]\n",
    "\thistory.append(obs)\n",
    "\tprint('predicted=%f, expected=%f' % (yhat, obs))\n",
    "# evaluate forecasts\n",
    "rmse = sqrt(mean_squared_error(test, predictions))\n",
    "print('Test RMSE: %.3f' % rmse)\n",
    "# plot forecasts against actual outcomes\n",
    "fig = plt.figure()\n",
    "fig.suptitle('Mean of GDP Prediction 2018-2021 - C3', fontsize=20)\n",
    "plt.xlabel('year', fontsize=18)\n",
    "plt.ylabel('GDP', fontsize=16)\n",
    "plt.plot(test, color='green')\n",
    "plt.plot(predictions, color='red')\n",
    "plt.show()"
   ]
  },
  {
   "cell_type": "markdown",
   "metadata": {},
   "source": [
    "# Verify the Performance of the chosen model"
   ]
  },
  {
   "cell_type": "code",
   "execution_count": 19,
   "metadata": {},
   "outputs": [
    {
     "name": "stdout",
     "output_type": "stream",
     "text": [
      "Performing stepwise search to minimize aic\n",
      " ARIMA(1,2,1)(0,0,0)[0] intercept   : AIC=-100.676, Time=0.03 sec\n",
      " ARIMA(0,2,0)(0,0,0)[0] intercept   : AIC=-96.870, Time=0.01 sec\n",
      " ARIMA(1,2,0)(0,0,0)[0] intercept   : AIC=-99.108, Time=0.04 sec\n",
      " ARIMA(0,2,1)(0,0,0)[0] intercept   : AIC=-102.840, Time=0.02 sec\n",
      " ARIMA(0,2,0)(0,0,0)[0]             : AIC=-98.831, Time=0.02 sec\n",
      " ARIMA(0,2,2)(0,0,0)[0] intercept   : AIC=-99.617, Time=0.03 sec\n",
      " ARIMA(1,2,2)(0,0,0)[0] intercept   : AIC=-97.571, Time=0.08 sec\n",
      " ARIMA(0,2,1)(0,0,0)[0]             : AIC=-104.686, Time=0.01 sec\n",
      " ARIMA(1,2,1)(0,0,0)[0]             : AIC=-102.559, Time=0.04 sec\n",
      " ARIMA(0,2,2)(0,0,0)[0]             : AIC=-102.079, Time=0.02 sec\n",
      " ARIMA(1,2,0)(0,0,0)[0]             : AIC=-101.116, Time=0.02 sec\n",
      " ARIMA(1,2,2)(0,0,0)[0]             : AIC=-100.392, Time=0.06 sec\n",
      "\n",
      "Best model:  ARIMA(0,2,1)(0,0,0)[0]          \n",
      "Total fit time: 0.388 seconds\n",
      "                               SARIMAX Results                                \n",
      "==============================================================================\n",
      "Dep. Variable:                      y   No. Observations:                   16\n",
      "Model:               SARIMAX(0, 2, 1)   Log Likelihood                  54.343\n",
      "Date:                Tue, 06 Jul 2021   AIC                           -104.686\n",
      "Time:                        01:29:01   BIC                           -103.408\n",
      "Sample:                             0   HQIC                          -104.804\n",
      "                                 - 16                                         \n",
      "Covariance Type:                  opg                                         \n",
      "==============================================================================\n",
      "                 coef    std err          z      P>|z|      [0.025      0.975]\n",
      "------------------------------------------------------------------------------\n",
      "ma.L1         -0.8886      0.725     -1.226      0.220      -2.309       0.532\n",
      "sigma2      2.228e-05   2.16e-05      1.034      0.301      -2e-05    6.45e-05\n",
      "===================================================================================\n",
      "Ljung-Box (L1) (Q):                   0.30   Jarque-Bera (JB):                11.21\n",
      "Prob(Q):                              0.58   Prob(JB):                         0.00\n",
      "Heteroskedasticity (H):               3.48   Skew:                            -1.76\n",
      "Prob(H) (two-sided):                  0.20   Kurtosis:                         5.60\n",
      "===================================================================================\n",
      "\n",
      "Warnings:\n",
      "[1] Covariance matrix calculated using the outer product of gradients (complex-step).\n"
     ]
    }
   ],
   "source": [
    "import pmdarima as pm\n",
    "pm_model = pm.auto_arima(c3_avg, start_p=1, start_q=1,\n",
    "                      test='adf',       # use adftest to find optimal 'd'\n",
    "                      max_p=10, max_q=10, # maximum p and q\n",
    "                      m=1,              # frequency of series\n",
    "                      d=None,           # let model determine 'd'\n",
    "                      seasonal=False,   # No Seasonality\n",
    "                      start_P=0, \n",
    "                      D=0, \n",
    "                      trace=True,\n",
    "                      error_action='ignore',  \n",
    "                      suppress_warnings=True, \n",
    "                      stepwise=True)\n",
    "\n",
    "print(pm_model.summary())"
   ]
  },
  {
   "cell_type": "code",
   "execution_count": null,
   "metadata": {},
   "outputs": [],
   "source": []
  }
 ],
 "metadata": {
  "kernelspec": {
   "display_name": "py37",
   "language": "python",
   "name": "py37"
  },
  "language_info": {
   "codemirror_mode": {
    "name": "ipython",
    "version": 3
   },
   "file_extension": ".py",
   "mimetype": "text/x-python",
   "name": "python",
   "nbconvert_exporter": "python",
   "pygments_lexer": "ipython3",
   "version": "3.7.9"
  }
 },
 "nbformat": 4,
 "nbformat_minor": 2
}
